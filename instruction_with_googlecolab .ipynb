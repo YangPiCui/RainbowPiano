{
  "cells": [
    {
      "cell_type": "code",
      "execution_count": null,
      "metadata": {
        "id": "9S06kiFOqSxu"
      },
      "outputs": [],
      "source": [
        "!pip install buildozer"
      ]
    },
    {
      "cell_type": "code",
      "execution_count": null,
      "metadata": {
        "id": "7nmamtMsqbrI"
      },
      "outputs": [],
      "source": [
        "!sudo apt-get install libtool"
      ]
    },
    {
      "cell_type": "code",
      "execution_count": null,
      "metadata": {
        "id": "l2Kh1tJNqYGp"
      },
      "outputs": [],
      "source": [
        "!pip install Cython==0.29.37"
      ]
    },
    {
      "cell_type": "code",
      "execution_count": null,
      "metadata": {
        "id": "esmYsVasqdg1"
      },
      "outputs": [],
      "source": [
        "!sudo apt-get install -y \\\n",
        "    python3-pip \\\n",
        "    build-essential \\\n",
        "    git \\\n",
        "    python3 \\\n",
        "    python3-dev \\\n",
        "    ffmpeg \\\n",
        "    libsdl2-dev \\\n",
        "    libsdl2-image-dev \\\n",
        "    libsdl2-mixer-dev \\\n",
        "    libsdl2-ttf-dev \\\n",
        "    libportmidi-dev \\\n",
        "    libswscale-dev \\\n",
        "    libavformat-dev \\\n",
        "    libavcodec-dev \\\n",
        "    zlib1g-dev\n"
      ]
    },
    {
      "cell_type": "code",
      "execution_count": null,
      "metadata": {
        "id": "Q1oqIl5GqfaF"
      },
      "outputs": [],
      "source": [
        "!sudo apt-get install -y \\\n",
        "    libgstreamer1.0 \\\n",
        "    gstreamer1.0-plugins-base \\\n",
        "    gstreamer1.0-plugins-good\n"
      ]
    },
    {
      "cell_type": "code",
      "execution_count": null,
      "metadata": {
        "id": "pFCCRe_8qhfQ"
      },
      "outputs": [],
      "source": [
        "!sudo apt-get install libffi-dev\n"
      ]
    },
    {
      "cell_type": "code",
      "execution_count": null,
      "metadata": {
        "id": "brcu6BaKPd7j"
      },
      "outputs": [],
      "source": [
        "!sudo apt-get install openjdk-17-jdk"
      ]
    },
    {
      "cell_type": "code",
      "execution_count": null,
      "metadata": {
        "id": "NBkq3rpCqjjt"
      },
      "outputs": [],
      "source": [
        "!sudo apt-get install build-essential libsqlite3-dev sqlite3 bzip2 libbz2-dev zlib1g-dev libssl-dev openssl libgdbm-dev libgdbm-compat-dev liblzma-dev libreadline-dev libncursesw5-dev libffi-dev uuid-dev libffi7\n"
      ]
    },
    {
      "cell_type": "code",
      "execution_count": null,
      "metadata": {
        "id": "tCPBi1_SqnrG"
      },
      "outputs": [],
      "source": [
        "!mv /content/KivyApp/* /content/\n"
      ]
    },
    {
      "cell_type": "code",
      "execution_count": null,
      "metadata": {
        "id": "_9wWw_x3qlkm"
      },
      "outputs": [],
      "source": [
        "!unzip KivyApp.zip"
      ]
    },
    {
      "cell_type": "code",
      "execution_count": null,
      "metadata": {
        "id": "DxhU_WFZdWFf"
      },
      "outputs": [],
      "source": [
        "!ls"
      ]
    },
    {
      "cell_type": "code",
      "execution_count": null,
      "metadata": {
        "id": "vqi6dw0QqpvB"
      },
      "outputs": [],
      "source": [
        "!buildozer init"
      ]
    },
    {
      "cell_type": "code",
      "execution_count": null,
      "metadata": {
        "id": "ySV9JoXtKBs6"
      },
      "outputs": [],
      "source": [
        "!buildozer android clean"
      ]
    },
    {
      "cell_type": "code",
      "execution_count": null,
      "metadata": {
        "colab": {
          "background_save": true
        },
        "id": "AUiMYVlDqrtI"
      },
      "outputs": [],
      "source": [
        "!buildozer -v android debug"
      ]
    }
  ],
  "metadata": {
    "colab": {
      "provenance": []
    },
    "kernelspec": {
      "display_name": "Python 3",
      "name": "python3"
    },
    "language_info": {
      "name": "python"
    }
  },
  "nbformat": 4,
  "nbformat_minor": 0
}
